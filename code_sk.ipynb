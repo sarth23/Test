{
 "cells": [
  {
   "cell_type": "code",
   "execution_count": 1,
   "metadata": {
    "scrolled": true
   },
   "outputs": [],
   "source": [
    "from netpyne import specs, sim\n",
    "netParams = specs.NetParams()\n",
    "simConfig = specs.SimConfig()"
   ]
  },
  {
   "cell_type": "markdown",
   "metadata": {},
   "source": [
    "## Creating a cell model for a single cell\n"
   ]
  },
  {
   "cell_type": "code",
   "execution_count": 2,
   "metadata": {},
   "outputs": [],
   "source": [
    "netParams.cellParams['pyr'] = {}\n",
    "netParams.cellParams['pyr']['secs'] = {}"
   ]
  },
  {
   "cell_type": "markdown",
   "metadata": {},
   "source": [
    "### Specify the soma compartment properties and the geometries of cell in dictionaries\n",
    "\n",
    " "
   ]
  },
  {
   "cell_type": "code",
   "execution_count": 3,
   "metadata": {},
   "outputs": [],
   "source": [
    "netParams.cellParams['pyr']['secs']['soma'] = {}"
   ]
  },
  {
   "cell_type": "code",
   "execution_count": 4,
   "metadata": {},
   "outputs": [],
   "source": [
    "netParams.cellParams['pyr']['secs']['soma']['geom'] = {\n",
    "    \"diam\": 12,\n",
    "    \"L\": 12,\n",
    "    \"Ra\": 100.0,\n",
    "    \"cm\": 1\n",
    "    }"
   ]
  },
  {
   "cell_type": "code",
   "execution_count": 5,
   "metadata": {},
   "outputs": [],
   "source": [
    "netParams.cellParams['pyr']['secs']['soma']['mechs'] = {\"hh\": {\n",
    "    \"gnabar\": 0.12,\n",
    "    \"gkbar\": 0.036,\n",
    "    \"gl\": 0.0003,\n",
    "    \"el\": -54.3\n",
    "    }}"
   ]
  },
  {
   "cell_type": "code",
   "execution_count": 6,
   "metadata": {},
   "outputs": [],
   "source": [
    "dend = {}"
   ]
  },
  {
   "cell_type": "code",
   "execution_count": 7,
   "metadata": {},
   "outputs": [],
   "source": [
    "dend['geom'] = {\"diam\": 1.0,\n",
    "                \"L\": 200.0,\n",
    "                \"Ra\": 100.0,\n",
    "                \"cm\": 1,\n",
    "               }"
   ]
  },
  {
   "cell_type": "code",
   "execution_count": 8,
   "metadata": {},
   "outputs": [],
   "source": [
    "dend['mechs'] = {\"pas\": \n",
    "                    {\"g\": 0.001,\n",
    "                     \"e\": -70}\n",
    "                }"
   ]
  },
  {
   "cell_type": "code",
   "execution_count": 9,
   "metadata": {},
   "outputs": [],
   "source": [
    "dend['topol'] = {\"parentSec\": \"soma\",\n",
    "                 \"parentX\": 1.0,\n",
    "                 \"childX\": 0,\n",
    "                }"
   ]
  },
  {
   "cell_type": "code",
   "execution_count": 10,
   "metadata": {},
   "outputs": [],
   "source": [
    "netParams.cellParams['pyr']['secs']['dend'] = dend"
   ]
  },
  {
   "cell_type": "markdown",
   "metadata": {},
   "source": [
    "## Create a population of cells from this one cell model like a synapse model connected together.\n",
    "\n"
   ]
  },
  {
   "cell_type": "code",
   "execution_count": 11,
   "metadata": {},
   "outputs": [],
   "source": [
    "netParams.popParams['E'] = {\n",
    "    \"cellType\": \"pyr\",\n",
    "    \"numCells\": 40,\n",
    "}"
   ]
  },
  {
   "cell_type": "code",
   "execution_count": 12,
   "metadata": {},
   "outputs": [],
   "source": [
    "netParams.synMechParams['exc'] = {\n",
    "    \"mod\": \"Exp2Syn\",\n",
    "    \"tau1\": 0.1,\n",
    "    \"tau2\": 1.0,\n",
    "    \"e\": 0\n",
    "}"
   ]
  },
  {
   "cell_type": "code",
   "execution_count": 13,
   "metadata": {},
   "outputs": [],
   "source": [
    "netParams.connParams['E->E'] = {\n",
    "    \"preConds\": {\"pop\": \"E\"},\n",
    "    \"postConds\": {\"pop\": \"E\"},\n",
    "    \"weight\": 0.005,\n",
    "    \"probability\": 0.1,\n",
    "    \"delay\": 5.0,\n",
    "    \"synMech\": \"exc\",\n",
    "    \"sec\": \"dend\",\n",
    "    \"loc\": 1.0,\n",
    "}"
   ]
  },
  {
   "cell_type": "markdown",
   "metadata": {},
   "source": [
    "## Setting up the simulation configuration to visualize"
   ]
  },
  {
   "cell_type": "code",
   "execution_count": 14,
   "metadata": {},
   "outputs": [],
   "source": [
    "simConfig.filename = \"netpyne_tut1\"\n",
    "simConfig.duration = 100.0\n",
    "simConfig.dt = 0.1"
   ]
  },
  {
   "cell_type": "code",
   "execution_count": 17,
   "metadata": {},
   "outputs": [],
   "source": [
    "simConfig.recordCells = [0]\n",
    "simConfig.recordTraces = {\n",
    "    \"V_soma\": {\n",
    "        \"sec\": \"soma\",\n",
    "        \"loc\": 0.5,\n",
    "        \"var\": \"v\",\n",
    "    },\n",
    "    \"V_dend\": {\n",
    "        \"sec\": \"dend\",\n",
    "        \"loc\": 1.0,\n",
    "        \"var\": \"v\",\n",
    "    }\n",
    "}"
   ]
  },
  {
   "cell_type": "code",
   "execution_count": 18,
   "metadata": {},
   "outputs": [],
   "source": [
    "simConfig.analysis = {\n",
    "    \"plotTraces\": {\n",
    "        \"include\": [0],\n",
    "        \"saveFig\": True,\n",
    "    },\n",
    "    \"plotRaster\": {\n",
    "        \"saveFig\": True,\n",
    "    }\n",
    "}"
   ]
  },
  {
   "cell_type": "code",
   "execution_count": 19,
   "metadata": {},
   "outputs": [],
   "source": [
    "%matplotlib inline"
   ]
  },
  {
   "cell_type": "code",
   "execution_count": 20,
   "metadata": {},
   "outputs": [
    {
     "name": "stdout",
     "output_type": "stream",
     "text": [
      "\n",
      "Start time:  2021-04-02 01:00:05.889123\n",
      "\n",
      "Creating network of 1 cell populations on 1 hosts...\n",
      "  Number of cells on node 0: 40 \n",
      "  Done; cell creation time = 0.15 s.\n",
      "Making connections...\n",
      "  Number of connections on node 0: 161 \n",
      "  Done; cell connection time = 0.05 s.\n",
      "  Number of stims on node 0: 0 \n",
      "  Done; cell stims creation time = 0.00 s.\n",
      "Recording 2 traces of 2 types on node 0\n",
      "\n",
      "Running simulation for 100.0 ms...\n",
      "  Done; run time = 0.05 s; real-time ratio: 2.17.\n",
      "\n",
      "Gathering data...\n",
      "  Done; gather time = 0.03 s.\n",
      "\n",
      "Analyzing...\n",
      "  Cells: 40\n",
      "  Connections: 161 (4.03 per cell)\n",
      "  Spikes: 0 (0.00 Hz)\n",
      "  Simulated time: 0.1 s; 1 workers\n",
      "  Run time: 0.05 s\n",
      "  Done; saving time = 0.07 s.\n",
      "Plotting recorded cell traces ... cell\n"
     ]
    },
    {
     "data": {
      "image/png": "[encoded data removed]",
      "text/plain": [
       "<Figure size 720x576 with 2 Axes>"
      ]
     },
     "metadata": {
      "needs_background": "light"
     },
     "output_type": "display_data"
    },
    {
     "name": "stdout",
     "output_type": "stream",
     "text": [
      "Plotting raster...\n",
      "No spikes available to plot raster\n",
      "  Done; plotting time = 1.22 s\n",
      "\n",
      "Total time = 1.57 s\n",
      "\n",
      "End time:  2021-04-02 01:00:07.459205\n"
     ]
    }
   ],
   "source": [
    "sim.createSimulateAnalyze(netParams=netParams, simConfig=simConfig)"
   ]
  },
  {
   "cell_type": "code",
   "execution_count": 21,
   "metadata": {},
   "outputs": [
    {
     "name": "stdout",
     "output_type": "stream",
     "text": [
      "Plotting recorded cell traces ... cell\n"
     ]
    },
    {
     "data": {
      "image/png": "[encoded data removed]",
      "text/plain": [
       "<Figure size 720x576 with 1 Axes>"
      ]
     },
     "metadata": {
      "needs_background": "light"
     },
     "output_type": "display_data"
    }
   ],
   "source": [
    "fig, figData = sim.analysis.plotTraces(overlay=True)"
   ]
  }
 ],
 "metadata": {
  "kernelspec": {
   "display_name": "env",
   "language": "python",
   "name": "env"
  },
  "language_info": {
   "codemirror_mode": {
    "name": "ipython",
    "version": 3
   },
   "file_extension": ".py",
   "mimetype": "text/x-python",
   "name": "python",
   "nbconvert_exporter": "python",
   "pygments_lexer": "ipython3",
   "version": "3.7.6"
  }
 },
 "nbformat": 4,
 "nbformat_minor": 4
}
